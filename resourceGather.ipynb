{
 "cells": [
  {
   "cell_type": "markdown",
   "metadata": {},
   "source": [
    "# Getting Weights For Tamgen"
   ]
  },
  {
   "cell_type": "markdown",
   "metadata": {},
   "source": [
    "Download the model weights for TamGen.\n",
    "\n",
    "Download link:\n",
    "https://zenodo.org/records/13751391\n",
    "\n",
    "- Download the checkpoints and extract them in the root folder\n",
    "- Copy 'checkpoints/crossdocked_model/checkpoint_best.pt' and place it in the 'gpt_model' model"
   ]
  },
  {
   "cell_type": "markdown",
   "metadata": {},
   "source": [
    "# Knowledge Graph Data Collection"
   ]
  },
  {
   "cell_type": "markdown",
   "metadata": {},
   "source": [
    "This requires downloading multi-modality datasets from [Bio Snap](https://snap.stanford.edu/biodata/) and other data source."
   ]
  },
  {
   "cell_type": "markdown",
   "metadata": {},
   "source": [
    "##### Interactions We Will Use:\n",
    "- Drug-Drug interaction with side-effects\n",
    "- Drug-Gene interaction\n",
    "- Disease-Drug interaction\n",
    "- Disease-Disease interaction\n",
    "- Disease-Function interaction\n",
    "- Function-Function interaction\n",
    "- Gene-Function interaction\n",
    "- Gene-Gene interaction\n",
    "- Gene-Protien interaction\n",
    "- Genomic Region-Genomic Region interaction\n",
    "- Protien-Protien interaction\n",
    "- Protien-Protien-Tissue interaction\n",
    "- Tissue-Function-Gene interaction"
   ]
  },
  {
   "cell_type": "code",
   "execution_count": null,
   "metadata": {},
   "outputs": [],
   "source": [
    "# Interactions\n",
    "!wget -nc -P ./data/ https://snap.stanford.edu/biodata/datasets/10001/files/ChCh-Miner_durgbank-chem-chem.tsv.gz\n",
    "!wget -nc -P ./data/ https://snap.stanford.edu/biodata/datasets/10002/files/ChG-Miner_miner-chem-gene.tsv.gz\n",
    "!wget -nc -P ./data/ https://snap.stanford.edu/biodata/datasets/10004/files/DCh-Miner_miner-disease-chemical.tsv.gz\n",
    "!wget -nc -P ./data/ https://snap.stanford.edu/biodata/datasets/10006/files/DD-Miner_miner-disease-disease.tsv.gz\n",
    "!wget -nc -P ./data/ https://snap.stanford.edu/biodata/datasets/10019/files/DF-Miner_miner-disease-function.tsv.gz\n",
    "!wget -nc -P ./data/ https://snap.stanford.edu/biodata/datasets/10020/files/DG-Miner_miner-disease-gene.tsv.gz\n",
    "!wget -nc -P ./data/ https://snap.stanford.edu/biodata/datasets/10026/files/FF-Miner_miner-func-func.tsv.gz\n",
    "!wget -nc -P ./data/ https://snap.stanford.edu/biodata/datasets/10024/files/GF-Miner_miner-gene-function.tsv.gz\n",
    "!wget -nc -P ./data/ https://snap.stanford.edu/biodata/datasets/10027/files/GP-Miner_miner-gene-protein.tsv.gz\n",
    "\n",
    "# Mappings\n",
    "!wget -nc -P ./data/ https://ftp.ebi.ac.uk/pub/databases/chembl/ChEMBLdb/latest/chembl_35_chemreps.txt.gz\n",
    "\n",
    "# Entities and Feature tables\n",
    "!wget -nc -P ./data/ https://snap.stanford.edu/biodata/datasets/10021/files/D-DoMiner_miner-diseaseDOID.tsv.gz\n",
    "!wget -nc -P ./data/ https://snap.stanford.edu/biodata/datasets/10003/files/D-MeshMiner_miner-disease.tsv.gz\n",
    "!wget -nc -P ./data/ https://snap.stanford.edu/biodata/datasets/10025/files/D-OmimMiner_miner-diseaseOMIM.tsv.gz\n",
    "!wget -nc -P ./data/ https://snap.stanford.edu/biodata/datasets/10022/files/G-SynMiner_miner-geneHUGO.tsv.gz\n"
   ]
  },
  {
   "cell_type": "markdown",
   "metadata": {},
   "source": [
    "### For The Next Step Run Database Creation Notebook"
   ]
  }
 ],
 "metadata": {
  "language_info": {
   "name": "python"
  }
 },
 "nbformat": 4,
 "nbformat_minor": 2
}
